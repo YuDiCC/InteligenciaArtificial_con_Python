{
 "cells": [
  {
   "cell_type": "code",
   "execution_count": 59,
   "id": "39c7d86b-f39d-4050-ac63-f81f5af4c300",
   "metadata": {},
   "outputs": [
    {
     "name": "stdout",
     "output_type": "stream",
     "text": [
      "Escribe un nombre:  Yudi\n",
      "Escribe tu edad:  20\n",
      "Escribe tu altura en metros:  1.50\n",
      "¿Eres estudiante? (responde 'si' o 'no'):  si\n"
     ]
    },
    {
     "name": "stdout",
     "output_type": "stream",
     "text": [
      "Mi nombre es Yudi\n",
      "Tengo 20 años\n",
      "Mi altura es 1.5 metros\n",
      "¿Soy estudiante? True\n",
      "Soy estudiante\n",
      "Soy mayor de edad\n"
     ]
    },
    {
     "name": "stdout",
     "output_type": "stream",
     "text": [
      "Ingresa el número máximo de iteraciones:  2\n"
     ]
    },
    {
     "name": "stdout",
     "output_type": "stream",
     "text": [
      "El contador es 0\n",
      "El contador es 1\n"
     ]
    },
    {
     "name": "stdout",
     "output_type": "stream",
     "text": [
      "Ingresa el número de frutas:  1\n",
      "Ingresa una fruta:  manzana\n"
     ]
    },
    {
     "name": "stdout",
     "output_type": "stream",
     "text": [
      "Me gusta comer manzana\n"
     ]
    },
    {
     "name": "stdout",
     "output_type": "stream",
     "text": [
      "¿Cuál es la base del rectángulo? 4\n",
      "¿Cuál es la altura del rectángulo? 4\n"
     ]
    },
    {
     "name": "stdout",
     "output_type": "stream",
     "text": [
      "El área del rectángulo es: 16\n"
     ]
    },
    {
     "name": "stdout",
     "output_type": "stream",
     "text": [
      "Inserta un valor para calcular su raíz cuadrada:  4\n"
     ]
    },
    {
     "name": "stdout",
     "output_type": "stream",
     "text": [
      "La raíz cuadrada de 4 es: 2.0\n"
     ]
    }
   ],
   "source": [
    "\"\"\" Este código muestra ejemplos básicos de variables y tipos de datos, como cadenas de texto, enteros, flotantes y booleanos. \n",
    "También se ejemplifican estructuras de control como condicionales (if-else) y bucles (while y for). Además, se muestra cómo \n",
    "definir y utilizar funciones en Python, y cómo importar y utilizar módulos, en este caso, el módulo math para calcular la raíz cuadrada. \"\"\"\n",
    "\n",
    "\n",
    "\n",
    "\n",
    "# Variables y tipos de datos\n",
    "\n",
    "# Asignación de valores a variables\n",
    "nombre = input(\"Escribe un nombre: \")  # Solicita al usuario que ingrese un nombre y lo asigna a la variable \"nombre\"\n",
    "edad = int(input(\"Escribe tu edad: \"))  # Solicita al usuario que ingrese una edad como entero y lo asigna a la variable \"edad\"\n",
    "altura = float(input(\"Escribe tu altura en metros: \"))  # Solicita al usuario que ingrese una altura como decimal y lo asigna a la variable \"altura\"\n",
    "es_estudiante_str = input(\"¿Eres estudiante? (responde 'si' o 'no'): \")  # Solicita al usuario que ingrese si es estudiante y lo asigna como cadena de texto a la variable \"es_estudiante_str\"\n",
    "es_estudiante = es_estudiante_str.lower() == 'si'  # Convierte la respuesta a minúsculas y compara si es igual a 'si', asigna el resultado a la variable \"es_estudiante\"\n",
    "\n",
    "print(f\"Mi nombre es {nombre}\")  # Imprime el nombre ingresado por el usuario\n",
    "print(f\"Tengo {edad} años\")  # Imprime la edad ingresada por el usuario\n",
    "print(f\"Mi altura es {altura} metros\")  # Imprime la altura ingresada por el usuario\n",
    "print(\"¿Soy estudiante?\", es_estudiante)  # Imprime si el usuario es estudiante o no\n",
    "\n",
    "# Estructuras de control: condicionales\n",
    "print(\"Soy estudiante\" if es_estudiante else \"No soy estudiante\")  # Imprime \"Soy estudiante\" si es_estudiante es True, de lo contrario imprime \"No soy estudiante\"\n",
    "\n",
    "if edad >= 18:  # Si la edad es mayor o igual a 18\n",
    "    print(\"Soy mayor de edad\")  # Imprime \"Soy mayor de edad\"\n",
    "else:\n",
    "    print(\"Soy menor de edad\")  # Imprime \"Soy menor de edad\"\n",
    "\n",
    "# Estructuras de control: bucles\n",
    "\n",
    "# Bucle while\n",
    "num_max_iteraciones = int(input(\"Ingresa el número máximo de iteraciones: \"))  # Solicita al usuario que ingrese el número máximo de iteraciones y lo asigna como entero a la variable \"num_max_iteraciones\"\n",
    "contador = 0  # Inicializa el contador en 0\n",
    "\n",
    "while contador < num_max_iteraciones:  # Mientras el contador sea menor que el número máximo de iteraciones\n",
    "    print(\"El contador es\", contador)  # Imprime el valor del contador en cada iteración\n",
    "    contador += 1  # Incrementa el contador en 1 en cada iteración\n",
    "\n",
    "# Bucle for\n",
    "num_frutas = int(input(\"Ingresa el número de frutas: \")) # Solicitar al usuario el número de frutas que ingresará\n",
    "frutas = [input(\"Ingresa una fruta: \") for _ in range(num_frutas)] # Crear una lista de frutas ingresadas por el usuario\n",
    "for fruta in frutas: # Iterar sobre la lista de frutas y mostrar cada fruta utilizando el bucle for\n",
    "    print(\"Me gusta comer\", fruta)\n",
    "\n",
    "# Funciones\n",
    "\n",
    "# Definición de una función\n",
    "def calcular_area_rectangulo(base, altura):\n",
    "    area = base * altura  # Calcula el área multiplicando la base por la altura y lo asigna a la variable \"area\"\n",
    "    return area  # Retorna el valor del área\n",
    "\n",
    "# Llamada a la función\n",
    "base_rectangulo = int(input(\"¿Cuál es la base del rectángulo?\"))  # Solicita al usuario que ingrese la base del rectángulo y lo asigna como entero a la variable \"base_rectangulo\"\n",
    "altura_rectangulo = int(input(\"¿Cuál es la altura del rectángulo?\"))  # Solicita al usuario que ingrese la altura del rectángulo y lo asigna como entero a la variable \"altura_rectangulo\"\n",
    "area_rectangulo = calcular_area_rectangulo(base_rectangulo, altura_rectangulo)  # Llama a la función calcular_area_rectangulo pasando la base y altura del rectángulo, y asigna el resultado a la variable \"area_rectangulo\"\n",
    "print(\"El área del rectángulo es:\", area_rectangulo)  # Imprime el área calculada del rectángulo\n",
    "\n",
    "# Módulos\n",
    "\n",
    "# Importar el módulo math\n",
    "import math\n",
    "\n",
    "# Utilizar una función del módulo math\n",
    "num_a_calcular = int(input(\"Inserta un valor para calcular su raíz cuadrada: \"))  # Solicita al usuario que ingrese un valor y lo asigna como entero a la variable \"num_a_calcular\"\n",
    "raiz_cuadrada = math.sqrt(num_a_calcular)  # Calcula la raíz cuadrada del valor ingresado utilizando la función sqrt del módulo math y lo asigna a la variable \"raiz_cuadrada\"\n",
    "print(f\"La raíz cuadrada de {num_a_calcular} es:\", raiz_cuadrada)  # Imprime la raíz cuadrada calculada\n"
   ]
  },
  {
   "cell_type": "code",
   "execution_count": null,
   "id": "bbdb9dfb-d1dc-46db-9300-1d38243f4ad8",
   "metadata": {},
   "outputs": [],
   "source": []
  }
 ],
 "metadata": {
  "kernelspec": {
   "display_name": "anaconda-2022.05-py39",
   "language": "python",
   "name": "conda-env-anaconda-2022.05-py39-py"
  },
  "language_info": {
   "codemirror_mode": {
    "name": "ipython",
    "version": 3
   },
   "file_extension": ".py",
   "mimetype": "text/x-python",
   "name": "python",
   "nbconvert_exporter": "python",
   "pygments_lexer": "ipython3",
   "version": "3.9.12"
  }
 },
 "nbformat": 4,
 "nbformat_minor": 5
}
